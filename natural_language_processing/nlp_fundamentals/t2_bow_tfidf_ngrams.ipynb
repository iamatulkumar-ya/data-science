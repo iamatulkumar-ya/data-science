{
 "cells": [
  {
   "cell_type": "markdown",
   "id": "a8080208",
   "metadata": {},
   "source": [
    "### Bag of Words\n",
    "\n",
    "a method for representing text data by counting the occurrences of words within a document, disregarding grammar and word order"
   ]
  },
  {
   "cell_type": "code",
   "execution_count": null,
   "id": "4a8f4c31",
   "metadata": {},
   "outputs": [],
   "source": []
  },
  {
   "cell_type": "markdown",
   "id": "bf2c0eda",
   "metadata": {},
   "source": [
    "### TF-IDF"
   ]
  },
  {
   "cell_type": "markdown",
   "id": "9883bb1b",
   "metadata": {},
   "source": [
    "### N-Grams Model"
   ]
  }
 ],
 "metadata": {
  "kernelspec": {
   "display_name": ".venv",
   "language": "python",
   "name": "python3"
  },
  "language_info": {
   "name": "python",
   "version": "3.12.10"
  }
 },
 "nbformat": 4,
 "nbformat_minor": 5
}
