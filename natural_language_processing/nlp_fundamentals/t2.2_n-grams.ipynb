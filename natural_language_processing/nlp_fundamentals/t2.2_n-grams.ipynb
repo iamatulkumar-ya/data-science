{
 "cells": [
  {
   "cell_type": "markdown",
   "id": "68d9f97b",
   "metadata": {},
   "source": [
    "### Vectorization\n",
    "Post initial text preprocessing, we need to transform the text into a meaningful vector of numbers such that a model can perform an operation on the same. There are several techniques to achieve these. Few popular ones are:\n",
    "\n",
    "1. Bag of Words\n",
    "2. TF- IDF (Term Frequencey - Inverse Document Frequency)\n",
    "3. N-Grams Model"
   ]
  },
  {
   "cell_type": "code",
   "execution_count": 22,
   "id": "f1e3bf58",
   "metadata": {},
   "outputs": [],
   "source": [
    "import nltk\n",
    "import string\n",
    "import pandas as pd\n",
    "import os\n",
    "import math\n",
    "import numpy as np"
   ]
  },
  {
   "cell_type": "markdown",
   "id": "f619c499",
   "metadata": {},
   "source": [
    "#### N-Grams"
   ]
  }
 ],
 "metadata": {
  "kernelspec": {
   "display_name": ".venv",
   "language": "python",
   "name": "python3"
  },
  "language_info": {
   "codemirror_mode": {
    "name": "ipython",
    "version": 3
   },
   "file_extension": ".py",
   "mimetype": "text/x-python",
   "name": "python",
   "nbconvert_exporter": "python",
   "pygments_lexer": "ipython3",
   "version": "3.12.9"
  }
 },
 "nbformat": 4,
 "nbformat_minor": 5
}
