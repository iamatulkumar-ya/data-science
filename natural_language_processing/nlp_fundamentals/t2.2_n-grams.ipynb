{
 "cells": [
  {
   "cell_type": "markdown",
   "id": "68d9f97b",
   "metadata": {},
   "source": [
    "### Vectorization\n",
    "Post initial text preprocessing, we need to transform the text into a meaningful vector of numbers such that a model can perform an operation on the same. There are several techniques to achieve these. Few popular ones are:\n",
    "\n",
    "1. Bag of Words\n",
    "2. TF- IDF (Term Frequencey - Inverse Document Frequency)\n",
    "3. N-Grams Model"
   ]
  },
  {
   "cell_type": "code",
   "execution_count": null,
   "id": "f1e3bf58",
   "metadata": {},
   "outputs": [],
   "source": [
    "import nltk\n",
    "import string\n",
    "import pandas as pd\n",
    "import os\n",
    "import math\n",
    "import numpy as np"
   ]
  },
  {
   "cell_type": "markdown",
   "id": "f619c499",
   "metadata": {},
   "source": [
    "#### N-Grams\n",
    "N-grams are contiguous sequences of n item (words or characters) from a given text. There are multiple types of grams that we can implement such as:\n",
    "1. Unigram (1-gram): individual words\n",
    "2. Bigram (2-gram) : pairs of consecutive words\n",
    "3. Trigram (3-gram) : triples of consecutive words and so on..\n",
    "\n",
    "N-grams helps in text classification, machine learning and transaltion task etc."
   ]
  },
  {
   "cell_type": "code",
   "execution_count": 50,
   "id": "87e500f5",
   "metadata": {},
   "outputs": [],
   "source": [
    "# let's take the dataset\n",
    "\n",
    "quotes = ['Be yourself; everyone else is already taken.',\n",
    " 'The biggest adventure you can take is to live the life of your dreams.',\n",
    " 'The only thing we have to fear is fear itself.',\n",
    " 'Some people want it to happen, some wish it would happen, others make it happen.',\n",
    " 'You have got to be in it to win it.',\n",
    " 'It does not matter how slowly you go, as long as you do not stop.',\n",
    " 'Find out who you are and do it on purpose.',\n",
    " 'For me, becoming is not about arriving somewhere or achieving a certain aim. I see it instead as forward motion, a means of evolving, a way to reach continuously toward a better self. The journey doesn’t end.',\n",
    " 'Confident people have a way of carrying themselves that makes others attracted to them.',\n",
    " 'If you can do what you do best and be happy, you are further along in life than most people.',\n",
    " 'You can be everything. You can be the infinite amount of things that people are.',\n",
    " 'Always go with your passions. Never ask yourself if it is realistic or not.',\n",
    " 'When you change your thoughts, remember to also change your world.',\n",
    " 'The more you know who you are, and what you want, the less you let things upset you.',\n",
    " 'By being yourself, you put something wonderful in the world that was not there before.',\n",
    " 'Do one thing every day that scares you.',\n",
    " 'It is never too late to be what you might have been.',\n",
    " 'Find out who you are and be that person. That is what your soul was put on this earth to be. Find the truth, live that truth, and everything else will come.',\n",
    " 'When we are no longer able to change a situation, we are challenged to change ourselves.',\n",
    " 'If you cannot do great things, do small things in a great way.',\n",
    " 'Always do your best. What you plant now, you will harvest later.',\n",
    " 'Get busy living or get busy dying.',\n",
    " 'In three words I can sum up everything I have learned about life: It goes on.',\n",
    " 'You can not help what you feel, but you can help how you behave.',\n",
    " 'No need to hurry. No need to sparkle. No need to be anybody but oneself.',\n",
    " 'Promise me you will always remember: You are braver than you believe, and stronger than you seem, and smarter than you think.',\n",
    " 'Failure is a great teacher and, if you are open to it, every mistake has a lesson to offer.',\n",
    " 'If you do not like the road you are walking, start paving another one.',\n",
    " 'Do not let yesterday take up too much of today.',\n",
    " 'Keep smiling, because life is a beautiful thing and there is so much to smile about.',\n",
    " 'Be persistent and never give up hope.',\n",
    " 'When we strive to become better than we are, everything around us becomes better too.',\n",
    " 'Believe and act as if it were impossible to fail.',\n",
    " 'There are so many great things in life; why dwell on negativity?',\n",
    " 'Happiness often sneaks in through a door you did not know you left open.',\n",
    " 'Always remember that you are absolutely unique. Just like everyone else.',\n",
    " 'Keep your face towards the sunshine and shadows will fall behind you.',\n",
    " 'A problem is a chance for you to do your best.',\n",
    " 'You do not always need a plan. Sometimes you just need to breathe, trust, let go and see what happens.',\n",
    " 'Nothing is impossible. The word itself says \"I am possible!\"',\n",
    " 'Life does not have to be perfect to be wonderful.',\n",
    " 'It is during our darkest moments that we must focus to see the light.',\n",
    " 'The best way out is through.',\n",
    " 'do not be afraid to give up the good to go for the great.',\n",
    " 'Whether you think you can or you can not, you are right.',\n",
    " 'do not take yourself too seriously. Know when to laugh at yourself, and find a way to laugh at obstacles that inevitably present themselves.',\n",
    " 'Love the life you live. Live the life you love.',\n",
    " 'Keep your face towards the sunshine and shadows will fall behind you.',\n",
    " 'The only person you are destined to become is the person you decide to be.',\n",
    " 'I am not going to continue knocking that old door that does not open for me. I am going to create my own door and walk through that.',\n",
    " 'If you change the way you look at things, the things you look at change.',\n",
    " 'I believe that if you wll just stand up and go, life will open up for you. Something just motivates you to keep moving.',\n",
    " 'Once you face your fear, nothing is ever as hard as you think.']"
   ]
  },
  {
   "cell_type": "code",
   "execution_count": null,
   "id": "e5be6633",
   "metadata": {},
   "outputs": [],
   "source": [
    "# nltk.download('punkt')"
   ]
  },
  {
   "cell_type": "code",
   "execution_count": 4,
   "id": "6f36bad0",
   "metadata": {},
   "outputs": [
    {
     "name": "stdout",
     "output_type": "stream",
     "text": [
      "NLTK Bigrams: [('this', 'is'), ('is', 'a'), ('a', 'very'), ('very', 'good'), ('good', 'book'), ('book', 'to'), ('to', 'study')]\n"
     ]
    }
   ],
   "source": [
    "import nltk\n",
    "from nltk.util import ngrams\n",
    "from collections import Counter\n",
    "\n",
    "# Download necessary NLTK resources (if not already downloaded)\n",
    "# nltk.download('punkt')\n",
    "\n",
    "text_data = \"this is a very good book to study\"\n",
    "# words = nltk.word_tokenize(text_data)  # Tokenize the text\n",
    "words = text_data.split()\n",
    "\n",
    "# Generate bigrams\n",
    "bigrams_nltk = list(ngrams(words, 2))\n",
    "print(f\"NLTK Bigrams: {bigrams_nltk}\")\n",
    "\n"
   ]
  },
  {
   "cell_type": "code",
   "execution_count": 5,
   "id": "0df571ed",
   "metadata": {},
   "outputs": [
    {
     "name": "stdout",
     "output_type": "stream",
     "text": [
      "Bigram Frequencies: Counter({('this', 'is'): 1, ('is', 'a'): 1, ('a', 'very'): 1, ('very', 'good'): 1, ('good', 'book'): 1, ('book', 'to'): 1, ('to', 'study'): 1})\n"
     ]
    }
   ],
   "source": [
    "# Count frequency of bigrams\n",
    "bigram_freq = Counter(bigrams_nltk)\n",
    "print(f\"Bigram Frequencies: {bigram_freq}\") # Top 5 most common"
   ]
  },
  {
   "cell_type": "markdown",
   "id": "8a85d8da",
   "metadata": {},
   "source": [
    "https://towardsdatascience.com/understanding-word-n-grams-and-n-gram-probability-in-natural-language-processing-9d9eef0fa058/"
   ]
  },
  {
   "cell_type": "markdown",
   "id": "6b660545",
   "metadata": {},
   "source": [
    "let's combine all the quotes and create grams "
   ]
  },
  {
   "cell_type": "code",
   "execution_count": 51,
   "id": "21a0c927",
   "metadata": {},
   "outputs": [
    {
     "name": "stdout",
     "output_type": "stream",
     "text": [
      "be yourself everyone else is already taken the biggest adventure you can take is to live the life of your dreams the only thing we have to fear is fear itself some people want it to happen some wish it would happen others make it happen you have got to be in it to win it it does not matter how slowly you go as long as you do not stop find out who you are and do it on purpose for me becoming is not about arriving somewhere or achieving a certain aim i see it instead as forward motion a means of evolving a way to reach continuously toward a better self the journey doesn’t end confident people have a way of carrying themselves that makes others attracted to them if you can do what you do best and be happy you are further along in life than most people you can be everything you can be the infinite amount of things that people are always go with your passions never ask yourself if it is realistic or not when you change your thoughts remember to also change your world the more you know who you are and what you want the less you let things upset you by being yourself you put something wonderful in the world that was not there before do one thing every day that scares you it is never too late to be what you might have been find out who you are and be that person that is what your soul was put on this earth to be find the truth live that truth and everything else will come when we are no longer able to change a situation we are challenged to change ourselves if you cannot do great things do small things in a great way always do your best what you plant now you will harvest later get busy living or get busy dying in three words i can sum up everything i have learned about life it goes on you can not help what you feel but you can help how you behave no need to hurry no need to sparkle no need to be anybody but oneself promise me you will always remember you are braver than you believe and stronger than you seem and smarter than you think failure is a great teacher and if you are open to it every mistake has a lesson to offer if you do not like the road you are walking start paving another one do not let yesterday take up too much of today keep smiling because life is a beautiful thing and there is so much to smile about be persistent and never give up hope when we strive to become better than we are everything around us becomes better too believe and act as if it were impossible to fail there are so many great things in life why dwell on negativity happiness often sneaks in through a door you did not know you left open always remember that you are absolutely unique just like everyone else keep your face towards the sunshine and shadows will fall behind you a problem is a chance for you to do your best you do not always need a plan sometimes you just need to breathe trust let go and see what happens nothing is impossible the word itself says i am possible life does not have to be perfect to be wonderful it is during our darkest moments that we must focus to see the light the best way out is through do not be afraid to give up the good to go for the great whether you think you can or you can not you are right do not take yourself too seriously know when to laugh at yourself and find a way to laugh at obstacles that inevitably present themselves love the life you live live the life you love keep your face towards the sunshine and shadows will fall behind you the only person you are destined to become is the person you decide to be i am not going to continue knocking that old door that does not open for me i am going to create my own door and walk through that if you change the way you look at things the things you look at change i believe that if you wll just stand up and go life will open up for you something just motivates you to keep moving once you face your fear nothing is ever as hard as you think\n"
     ]
    }
   ],
   "source": [
    "allQuotes = \" \".join(quotes).lower()\n",
    "for p in string.punctuation:\n",
    "    allQuotes = allQuotes.replace(p, \"\")\n",
    "\n",
    "print(allQuotes)"
   ]
  },
  {
   "cell_type": "code",
   "execution_count": 65,
   "id": "9670ebfd",
   "metadata": {},
   "outputs": [],
   "source": [
    "def create_grams(datasetList, n):\n",
    "    ngramslist = []\n",
    "    for i in range(len(datasetList)-n-1):\n",
    "        _ngramdata = [datasetList[i]]\n",
    "        for c in range(1, n): \n",
    "            _ngramdata.append(datasetList[i+c])\n",
    "\n",
    "        ngramslist.append(\" \".join(_ngramdata))\n",
    "    return ngramslist\n"
   ]
  },
  {
   "cell_type": "code",
   "execution_count": 66,
   "id": "3d4a1b19",
   "metadata": {},
   "outputs": [],
   "source": [
    "allQuotesList = allQuotes.split()"
   ]
  },
  {
   "cell_type": "code",
   "execution_count": 67,
   "id": "34e072dd",
   "metadata": {},
   "outputs": [
    {
     "data": {
      "text/plain": [
       "['be yourself', 'yourself everyone', 'everyone else', 'else is', 'is already']"
      ]
     },
     "execution_count": 67,
     "metadata": {},
     "output_type": "execute_result"
    }
   ],
   "source": [
    "\n",
    "ngram_tokens = create_grams(allQuotesList, 2)\n",
    "ngram_tokens[:5]"
   ]
  },
  {
   "cell_type": "markdown",
   "id": "ed7fe781",
   "metadata": {},
   "source": [
    "no we will add the probability for each word in the ngram_tokens\n",
    "\n",
    "Example: ['Be', 'yourself']\n",
    "\n",
    "so we will comput probbaility of 'yourself' given Be\n",
    "\n",
    "P = count(be|yourself)/count(be)"
   ]
  },
  {
   "cell_type": "code",
   "execution_count": 90,
   "id": "ad19f31d",
   "metadata": {},
   "outputs": [
    {
     "data": {
      "text/plain": [
       "[['be yourself', 0.07142857142857142],\n",
       " ['yourself everyone', 0.2],\n",
       " ['everyone else', 1.0],\n",
       " ['else is', 0.3333333333333333],\n",
       " ['is already', 0.0625]]"
      ]
     },
     "execution_count": 90,
     "metadata": {},
     "output_type": "execute_result"
    }
   ],
   "source": [
    "n_grams = []\n",
    "for token in ngram_tokens: \n",
    "    count_of_text = ngram_tokens.count(token)\n",
    "    count_of_previous_word = allQuotesList.count(\" \".join(token.split()[:-1])) \n",
    "\n",
    "    _token_value = [token, count_of_text/count_of_previous_word]\n",
    "\n",
    "    if _token_value not in n_grams:\n",
    "        n_grams.append(_token_value)\n",
    "\n",
    "n_grams[:5]"
   ]
  },
  {
   "cell_type": "code",
   "execution_count": 56,
   "id": "46762219",
   "metadata": {},
   "outputs": [],
   "source": [
    "import heapq\n"
   ]
  },
  {
   "cell_type": "code",
   "execution_count": 73,
   "id": "11a1f551",
   "metadata": {},
   "outputs": [
    {
     "data": {
      "text/plain": [
       "[['a beautiful', 0.06666666666666667],\n",
       " ['a certain', 0.06666666666666667],\n",
       " ['a better', 0.06666666666666667],\n",
       " ['a chance', 0.06666666666666667],\n",
       " ['a way', 0.2]]"
      ]
     },
     "execution_count": 73,
     "metadata": {},
     "output_type": "execute_result"
    }
   ],
   "source": [
    "heapq.heapify(n_grams)\n",
    "n_grams[:5]"
   ]
  },
  {
   "cell_type": "code",
   "execution_count": 83,
   "id": "a115011b",
   "metadata": {},
   "outputs": [
    {
     "data": {
      "text/plain": [
       "[['achieving a', 1.0],\n",
       " ['afraid to', 1.0],\n",
       " ['adventure you', 1.0],\n",
       " ['aim i', 1.0],\n",
       " ['already taken', 1.0]]"
      ]
     },
     "execution_count": 83,
     "metadata": {},
     "output_type": "execute_result"
    }
   ],
   "source": [
    "heapq.nlargest(5, n_grams, key= lambda x: x[1]   )"
   ]
  },
  {
   "cell_type": "code",
   "execution_count": 88,
   "id": "be2e161d",
   "metadata": {},
   "outputs": [],
   "source": [
    "# creating a method to get the 5 suggesion for next possible word\n",
    "def get_next_word(current_word:str): \n",
    "    # get the suggested word\n",
    "    suggessions = [item for item in n_grams if item[0].split()[0] == current_word]\n",
    "    heapq.heapify(suggessions)\n",
    "\n",
    "    possible_suggessions = heapq.nlargest(5, suggessions, key= lambda x: x[1])\n",
    "\n",
    "    return [item[0] for item in possible_suggessions]\n",
    "        "
   ]
  },
  {
   "cell_type": "code",
   "execution_count": 106,
   "id": "bfb2f355",
   "metadata": {},
   "outputs": [
    {
     "name": "stdout",
     "output_type": "stream",
     "text": [
      "['not about', 'not always', 'not be', 'not know', 'not have']\n"
     ]
    }
   ],
   "source": [
    "print(get_next_word(\"not\"))"
   ]
  },
  {
   "cell_type": "markdown",
   "id": "c03e4e5c",
   "metadata": {},
   "source": [
    "let's try to complete the sentence"
   ]
  },
  {
   "cell_type": "code",
   "execution_count": 112,
   "id": "5516d5ee",
   "metadata": {},
   "outputs": [],
   "source": [
    "test_text = \"people thinks that\""
   ]
  },
  {
   "cell_type": "code",
   "execution_count": 97,
   "id": "6e5bd67c",
   "metadata": {},
   "outputs": [],
   "source": [
    "import random"
   ]
  },
  {
   "cell_type": "code",
   "execution_count": 118,
   "id": "6633ab46",
   "metadata": {},
   "outputs": [
    {
     "name": "stdout",
     "output_type": "stream",
     "text": [
      "Actual text::  people thinks that\n",
      "Formed text::  people thinks that does not be afraid to also change i\n"
     ]
    }
   ],
   "source": [
    "new_text_list = test_text.split()\n",
    "do_predict = True\n",
    "last_word = new_text_list[-1]\n",
    " \n",
    "while do_predict: \n",
    "    suggested_word = get_next_word(last_word)\n",
    "     \n",
    "    if suggested_word:\n",
    "        last_word = random.choice([item.split()[1] for item in suggested_word])\n",
    "        new_text_list.append(last_word)\n",
    "\n",
    "        # let's add some terminate condition\n",
    "        if len(new_text_list) > 10:\n",
    "            do_predict = False\n",
    "    else:\n",
    "        do_predict = False\n",
    "\n",
    "\n",
    "print(\"Actual text:: \", test_text)\n",
    "print(\"Formed text:: \", \" \".join(new_text_list))\n"
   ]
  },
  {
   "cell_type": "markdown",
   "id": "a7140603",
   "metadata": {},
   "source": [
    "So, we are seeing, sentences are getting formed but there are no context. Thus we use vectorization to add some more context "
   ]
  }
 ],
 "metadata": {
  "kernelspec": {
   "display_name": ".venv",
   "language": "python",
   "name": "python3"
  },
  "language_info": {
   "codemirror_mode": {
    "name": "ipython",
    "version": 3
   },
   "file_extension": ".py",
   "mimetype": "text/x-python",
   "name": "python",
   "nbconvert_exporter": "python",
   "pygments_lexer": "ipython3",
   "version": "3.12.9"
  }
 },
 "nbformat": 4,
 "nbformat_minor": 5
}
