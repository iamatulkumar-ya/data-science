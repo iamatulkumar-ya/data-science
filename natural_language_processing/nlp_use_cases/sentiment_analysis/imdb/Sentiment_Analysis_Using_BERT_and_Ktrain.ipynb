{
 "cells": [
  {
   "cell_type": "markdown",
   "metadata": {},
   "source": [
    "### Sentiment Analysis using BERT model and Ktrain Library on IMDB data"
   ]
  },
  {
   "cell_type": "code",
   "execution_count": null,
   "metadata": {},
   "outputs": [],
   "source": [
    "! pip install ktrain\n",
    "! pip install tensorflow==2.15.1"
   ]
  },
  {
   "cell_type": "code",
   "execution_count": null,
   "metadata": {},
   "outputs": [],
   "source": [
    "import os\n",
    "import numpy as np\n",
    "import tensorflow as tf\n",
    "import ktrain   # pip install ktrain; with this install tensorflow==2.15.1 as ktrain is using Keras 2 modules\n",
    "from ktrain import text"
   ]
  },
  {
   "cell_type": "code",
   "execution_count": null,
   "metadata": {},
   "outputs": [],
   "source": [
    "# downloading a file using tensorflow/keras/utils/get_file function by passing the required paramters\n",
    "# dataset = tf.keras.utils.get_file(fname='aclImdb_v1.tar.gz',\n",
    "#                                   origin='http://ai.stanford.edu/~amaas/data/sentiment/aclImdb_v1.tar.gz',\n",
    "#                                   extract=True)\n",
    "\n"
   ]
  },
  {
   "cell_type": "code",
   "execution_count": null,
   "metadata": {},
   "outputs": [],
   "source": [
    "# creating a variable to store the path for further usability\n",
    "# IMDB_DATADIR = os.path.join(os.path.dirname(dataset), 'aclImdb')"
   ]
  },
  {
   "cell_type": "code",
   "execution_count": null,
   "metadata": {},
   "outputs": [],
   "source": [
    "# # let's analyze the path for a knowledge\n",
    "# print(os.path.dirname(dataset))\n",
    "\n",
    "# print(IMDB_DATADIR)"
   ]
  },
  {
   "cell_type": "code",
   "execution_count": null,
   "metadata": {},
   "outputs": [],
   "source": [
    "# creating a variable to store the path for further usability\n",
    "# from local \n",
    "IMDB_DATADIR = os.path.join(os.getcwd(), 'aclImdb')"
   ]
  },
  {
   "cell_type": "code",
   "execution_count": null,
   "metadata": {},
   "outputs": [],
   "source": [
    "# we will be using text module of ktrain module to get test and train data\n",
    "# classes is predefined as per dataset, train_test_names are the folder which is there in the dataset\n",
    "(x_train, y_train), (x_test, y_test), prepoc = text.texts_from_folder(datadir=IMDB_DATADIR,\n",
    "                                                                      classes=['pos','neg'],\n",
    "                                                                      maxlen=500,\n",
    "                                                                      train_test_names=['train','test'],\n",
    "                                                                      preprocess_mode='bert') "
   ]
  },
  {
   "cell_type": "code",
   "execution_count": null,
   "metadata": {},
   "outputs": [],
   "source": [
    "# buidling the bert model using ktrain lib by calling text classifier method \n",
    "model = text.text_classifier(name='bert',\n",
    "                             train_data=(x_train,y_train),\n",
    "                             preproc=prepoc)"
   ]
  },
  {
   "cell_type": "code",
   "execution_count": null,
   "metadata": {},
   "outputs": [],
   "source": [
    "# creating the learner which will learn as per specified variables\n",
    "learner = ktrain.get_learner(model=model,\n",
    "                             train_data=(x_train,y_train),\n",
    "                             val_data=(x_test,y_test),\n",
    "                             batch_size=6)"
   ]
  },
  {
   "cell_type": "code",
   "execution_count": null,
   "metadata": {},
   "outputs": [],
   "source": [
    "# let's train the model now\n",
    "# to tain the model the data must be as per model this we used ktrain lib/text modeule to comply with the bert model data type\n",
    "# taking learning rate as 2x10^-5\n",
    "learner.fit_onecycle(lr=2e-5,\n",
    "                     epochs=1)"
   ]
  },
  {
   "cell_type": "code",
   "execution_count": null,
   "metadata": {},
   "outputs": [],
   "source": [
    "learner.predict()"
   ]
  }
 ],
 "metadata": {
  "kernelspec": {
   "display_name": ".venv",
   "language": "python",
   "name": "python3"
  },
  "language_info": {
   "codemirror_mode": {
    "name": "ipython",
    "version": 3
   },
   "file_extension": ".py",
   "mimetype": "text/x-python",
   "name": "python",
   "nbconvert_exporter": "python",
   "pygments_lexer": "ipython3",
   "version": "3.11.9"
  }
 },
 "nbformat": 4,
 "nbformat_minor": 2
}
