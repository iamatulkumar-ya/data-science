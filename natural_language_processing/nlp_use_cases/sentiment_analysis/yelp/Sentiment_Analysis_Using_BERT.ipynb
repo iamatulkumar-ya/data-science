{
 "cells": [
  {
   "cell_type": "markdown",
   "metadata": {},
   "source": [
    "### Sentiment Analysis for YELP data using BERT Model - transformers"
   ]
  },
  {
   "cell_type": "markdown",
   "metadata": {},
   "source": [
    "#### 1. Importing Libraries"
   ]
  },
  {
   "cell_type": "code",
   "execution_count": 3,
   "metadata": {},
   "outputs": [],
   "source": [
    "from transformers import AutoTokenizer # this will convert into token\n",
    "from transformers import AutoModelForSequenceClassification # this will provide the architecture for model\n",
    "import torch\n",
    "import requests\n",
    "from bs4 import BeautifulSoup\n",
    "import re"
   ]
  },
  {
   "cell_type": "markdown",
   "metadata": {},
   "source": [
    "#### 2. Instantiate Model"
   ]
  },
  {
   "cell_type": "code",
   "execution_count": null,
   "metadata": {},
   "outputs": [],
   "source": [
    "# getting the token object for the model\n",
    "tokenizer = AutoTokenizer.from_pretrained('nlptown/bert-base-multilingual-uncased-sentiment')\n",
    "\n",
    "\n"
   ]
  },
  {
   "cell_type": "code",
   "execution_count": 7,
   "metadata": {},
   "outputs": [],
   "source": [
    "# loading the model now\n",
    "model = AutoModelForSequenceClassification.from_pretrained('nlptown/bert-base-multilingual-uncased-sentiment')"
   ]
  },
  {
   "cell_type": "markdown",
   "metadata": {},
   "source": [
    "#### Encode and Calculate Sentiment"
   ]
  },
  {
   "cell_type": "code",
   "execution_count": 8,
   "metadata": {},
   "outputs": [],
   "source": [
    "tokens = tokenizer.encode('I really love this.', return_tensors='pt') # return tensor is pytorch"
   ]
  },
  {
   "cell_type": "code",
   "execution_count": 9,
   "metadata": {},
   "outputs": [
    {
     "data": {
      "text/plain": [
       "tensor([[  101,   151, 25165, 11157, 10372,   119,   102]])"
      ]
     },
     "execution_count": 9,
     "metadata": {},
     "output_type": "execute_result"
    }
   ],
   "source": [
    "tokens"
   ]
  },
  {
   "cell_type": "code",
   "execution_count": 10,
   "metadata": {},
   "outputs": [],
   "source": [
    "result = model(tokens)"
   ]
  },
  {
   "cell_type": "code",
   "execution_count": 11,
   "metadata": {},
   "outputs": [
    {
     "data": {
      "text/plain": [
       "SequenceClassifierOutput(loss=None, logits=tensor([[-2.5230, -2.8256, -1.1974,  1.5680,  3.9426]],\n",
       "       grad_fn=<AddmmBackward0>), hidden_states=None, attentions=None)"
      ]
     },
     "execution_count": 11,
     "metadata": {},
     "output_type": "execute_result"
    }
   ],
   "source": [
    "result"
   ]
  },
  {
   "cell_type": "markdown",
   "metadata": {},
   "source": [
    "tensor is a mathmetical object that can be thouught of as a multi dimensional array."
   ]
  },
  {
   "cell_type": "code",
   "execution_count": null,
   "metadata": {},
   "outputs": [
    {
     "data": {
      "text/plain": [
       "tensor([[-2.5230, -2.8256, -1.1974,  1.5680,  3.9426]],\n",
       "       grad_fn=<AddmmBackward0>)"
      ]
     },
     "execution_count": 13,
     "metadata": {},
     "output_type": "execute_result"
    }
   ],
   "source": [
    "result.logits # represent the output of the model in multi-dimensional"
   ]
  },
  {
   "cell_type": "code",
   "execution_count": 15,
   "metadata": {},
   "outputs": [
    {
     "data": {
      "text/plain": [
       "tensor(5)"
      ]
     },
     "execution_count": 15,
     "metadata": {},
     "output_type": "execute_result"
    }
   ],
   "source": [
    "# this will ggive the sentiment score\n",
    "# need to do +1 cz, it is starting from 0\n",
    "torch.argmax(result.logits)+1  "
   ]
  },
  {
   "cell_type": "markdown",
   "metadata": {},
   "source": [
    "#### Collecct review "
   ]
  },
  {
   "cell_type": "code",
   "execution_count": 47,
   "metadata": {},
   "outputs": [],
   "source": [
    "r = requests.get(\"https://www.amazon.in/product-reviews/B0D813HQFN/ref=acr_dp_hist_5?ie=UTF8&filterByStar=five_star&reviewerType=all_reviews#reviews-filter-bar\")"
   ]
  },
  {
   "cell_type": "code",
   "execution_count": 48,
   "metadata": {},
   "outputs": [
    {
     "data": {
      "text/plain": [
       "'<html>\\n    <head>\\n        <meta http-equiv=\"Content-Type\" content=\"text/html;charset=UTF-8\"/>\\n        <title>Page Not Found</title>\\n\\n        <style type=\"text/css\">\\n            a:link { font-family: verdana,arial,helvetica,sans-serif; color: #004B91; }\\n            a:visited { font-family: verdana,arial,helvetica,sans-serif; color: #996633; }\\n            a:active { font-family: verdana,arial,helvetica,sans-serif; color: #FF9933; }\\n        </style>\\n    </head>\\n    <body bgcolor=\"#FFFFFF\" text=\"#000000\" style=\"font-family: verdana,arial,helvetica,sans-serif;\">\\n        <!--\\n            To discuss automated access to Amazon data please contact api-services-support@amazon.com.\\r\\n\\r\\nFor information about migrating to our APIs refer to our Marketplace APIs at https://developer.amazonservices.com/ref=rm_5_sv, or our Product Advertising API at https://affiliate-program.amazon.com/gp/advertising/api/detail/main.html/ref=rm_5_ac for advertising use cases.\\n        -->\\n        <center>\\n            <a href=\"/ref=cs_404_logo\">\\n                <img src=\"https://images-eu.ssl-images-amazon.com/images/G/31/ShoppingPortal/logo._TTD_.png\"\\n                     alt=\"Amazon\" border=\"0\"/>\\n            </a>\\n            <table border=\"0\" align=\"center\" style=\"margin-top: 20px;\">\\n                <tr>\\n                    <td>\\n                        <img src=\"https://images-eu.ssl-images-amazon.com/images/G/31/x-locale/common/kailey-kitty._TTD_.gif\" width=\"40\" height=\"35\" border=\"0\">\\n                    </td>\\n                    <td>\\n                        <b style=\"color:#E47911\">Looking for something?</b>\\n                        <br/>\\n                        We\\'re sorry. The Web address you entered is not a functioning page on our site.\\n                        <br/><br/>\\n                        <img src=\"https://images-eu.ssl-images-amazon.com/images/G/31/x-locale/common/orange-arrow._TTD_.gif\" width=\"10\" height=\"9\" border=\"0\">\\n                        <b><a href=\"/ref=cs_404_link\">Click here to go back to the Amazon home page</a></b>\\n                    </td>\\n                </tr>\\n            </table>\\n        </center>\\n    </body>\\n</html>\\n<!-- 5bdb3e02 -->'"
      ]
     },
     "execution_count": 48,
     "metadata": {},
     "output_type": "execute_result"
    }
   ],
   "source": [
    "r.text"
   ]
  },
  {
   "cell_type": "code",
   "execution_count": 42,
   "metadata": {},
   "outputs": [],
   "source": [
    "soup = BeautifulSoup(r.text, 'html.parser')"
   ]
  },
  {
   "cell_type": "code",
   "execution_count": 43,
   "metadata": {},
   "outputs": [
    {
     "data": {
      "text/plain": [
       "<!DOCTYPE html>\n",
       "\n",
       "<!--[if lt IE 7 ]> <html class=\"ie6 ie ltie9 ltie8 no-js\" lang=\"en-US\"> <![endif]-->\n",
       "<!--[if IE 7 ]>    <html class=\"ie7 ie ltie9 ltie8 no-js\" lang=\"en-US\"> <![endif]-->\n",
       "<!--[if IE 8 ]>    <html class=\"ie8 ie ltie9 no-js\" lang=\"en-US\"> <![endif]-->\n",
       "<!--[if IE 9 ]>    <html class=\"ie9 ie no-js\" lang=\"en-US\"> <![endif]-->\n",
       "<!--[if (gt IE 9)|!(IE)]><!--> <html class=\"no-js\" lang=\"en-US\"> <!--<![endif]-->\n",
       "<head>\n",
       "<meta content=\"text/html; charset=utf-8\" http-equiv=\"Content-Type\"/>\n",
       "<meta content=\"width=device-width, initial-scale=1.0\" name=\"viewport\"/>\n",
       "<link href=\"https://s3-media0.fl.yelpcdn.com/assets/srv0/error_pages/81b13bc440cd/assets/scss/maintenance-pkg.css\" rel=\"stylesheet\"/>\n",
       "<title>Yelp</title>\n",
       "<link content=\"#FF1A1A\" href=\"https://s3-media0.fl.yelpcdn.com/assets/srv0/yelp_styleguide/b2bb2fb0ec9c/assets/img/logos/yelp_burst.svg\" rel=\"mask-icon\" sizes=\"any\"/>\n",
       "<link href=\"https://s3-media0.fl.yelpcdn.com/assets/srv0/yelp_styleguide/dcfe403147fc/assets/img/logos/favicon.ico\" rel=\"shortcut icon\"/>\n",
       "</head>\n",
       "<body>\n",
       "<div class=\"page\">\n",
       "<header>\n",
       "<a class=\"logo\" href=\"https://yelp.com\">\n",
       "            Yelp\n",
       "        </a>\n",
       "</header>\n",
       "<div class=\"navigation\">\n",
       "<form action=\"https://www.yelp.com/search\" class=\"search-form\">\n",
       "<input aria-label=\"Search for\" name=\"find_desc\" placeholder=\"tacos, cheap dinner, Max’s\" type=\"text\"/>\n",
       "<div class=\"input-separator\" role=\"presentation\"></div>\n",
       "<input aria-label=\"Near\" name=\"find_loc\" placeholder=\"address, neighborhood, city, state or zip\" type=\"text\"/>\n",
       "<button type=\"submit\">Search</button>\n",
       "</form>\n",
       "<nav>\n",
       "<a href=\"https://yelp.com/search\">Search for a business</a>\n",
       "<a href=\"https://biz.yelp.com\">Yelp for Business</a>\n",
       "<a href=\"https://yelp.com/support\">Contact us</a>\n",
       "</nav>\n",
       "</div>\n",
       "<main>\n",
       "<section class=\"page-content\">\n",
       "<div>\n",
       "<h1>This page is not available</h1>\n",
       "<p>You may need permission to access this page. <a href=\"mailto:feedback+unavailable@yelp.com\">Request permission</a></p>\n",
       "</div>\n",
       "<figure>\n",
       "<picture>\n",
       "<source media=\"(max-width: 599px)\" srcset=\"https://s3-media0.fl.yelpcdn.com/assets/srv0/yelp_design_cdn/530025df059b/assets/img/svg_illustrations/page_not_available_mobile_375x300_v2.svg\"/>\n",
       "<source media=\"(min-width: 600px)\" srcset=\"https://s3-media0.fl.yelpcdn.com/assets/srv0/yelp_design_cdn/cd1528b28ad8/assets/img/svg_illustrations/page_not_available_650x520_v2.svg\"/>\n",
       "<img src=\"https://s3-media0.fl.yelpcdn.com/assets/srv0/yelp_design_cdn/cd1528b28ad8/assets/img/svg_illustrations/page_not_available_650x520_v2.svg\"/>\n",
       "</picture>\n",
       "</figure>\n",
       "</section>\n",
       "</main>\n",
       "</div>\n",
       "<footer>\n",
       "<div class=\"footer-container\">\n",
       "<div class=\"footer-links\">\n",
       "<h2>Discover</h2>\n",
       "<ul>\n",
       "<li><a href=\"https://yelp.com\">Home</a></li>\n",
       "<li><a href=\"https://yelp.com/user_details\">My Profile</a></li>\n",
       "<li><a href=\"https://yelp.com/writeareview\">Write a Review</a></li>\n",
       "<li><a href=\"https://yelp.com/costs\">Yelp Project Cost Guides</a></li>\n",
       "<li><a href=\"https://yelp.com/collections\">Collections</a></li>\n",
       "<li><a href=\"https://yelp.com/local_yelp\">The Local Yelp</a></li>\n",
       "<li><a href=\"https://blog.yelp.com\">Yelp Blog</a></li>\n",
       "</ul>\n",
       "</div>\n",
       "<div class=\"footer-links\">\n",
       "<h2>About</h2>\n",
       "<ul>\n",
       "<li><a href=\"https://yelp.com/about\">About Yelp</a></li>\n",
       "<li><a href=\"https://trust.yelp.com\">Trust &amp; Safety</a></li>\n",
       "<li><a href=\"https://yelp.com/guidelines\">Content Guidelines</a></li>\n",
       "<li><a href=\"https://www.yelp-support.com/article/Yelp-Accessibility-Statement\">Accessibility Statement</a></li>\n",
       "<li><a href=\"https://www.yelp.com/static?p=tos\">Terms of Service</a></li>\n",
       "<li><a href=\"https://www.yelp.com/tos/privacy_policy\">Privacy Policy</a></li>\n",
       "</ul>\n",
       "</div>\n",
       "<p class=\"footer-copyright\">\n",
       "<small class=\"main-footer_copyright\">\n",
       "            Copyright © 2004–2024 Yelp Inc. Yelp, <img alt=\"Yelp logo\" class=\"main-footer_logo-copyright\" src=\"https://s3-media0.fl.yelpcdn.com/assets/srv0/yelp_styleguide/a4b4b8fcdebe/assets/img/logos/logo_desktop_xsmall_outline.png\" srcset=\"https://s3-media0.fl.yelpcdn.com/assets/srv0/yelp_styleguide/12b14ca44670/assets/img/logos/logo_desktop_xsmall_outline@2x.png 2x\"/>, <img alt=\"Yelp burst\" class=\"main-footer_logo-burst\" src=\"https://s3-media0.fl.yelpcdn.com/assets/srv0/yelp_styleguide/f805568e43b7/assets/img/logos/burst_desktop_xsmall_outline.png\" srcset=\"https://s3-media0.fl.yelpcdn.com/assets/srv0/yelp_styleguide/d57e9bccd629/assets/img/logos/burst_desktop_xsmall_outline@2x.png 2x\"/> and related marks are registered trademarks of Yelp.\n",
       "    </small>\n",
       "</p>\n",
       "</div>\n",
       "</footer>\n",
       "</body>\n",
       "</html>"
      ]
     },
     "execution_count": 43,
     "metadata": {},
     "output_type": "execute_result"
    }
   ],
   "source": [
    "soup"
   ]
  },
  {
   "cell_type": "code",
   "execution_count": 44,
   "metadata": {},
   "outputs": [],
   "source": [
    "regex = re.compile('.*comment.*')"
   ]
  },
  {
   "cell_type": "code",
   "execution_count": 45,
   "metadata": {},
   "outputs": [],
   "source": [
    "results = soup.find_all('p', {'class':regex})"
   ]
  },
  {
   "cell_type": "code",
   "execution_count": 46,
   "metadata": {},
   "outputs": [
    {
     "data": {
      "text/plain": [
       "[]"
      ]
     },
     "execution_count": 46,
     "metadata": {},
     "output_type": "execute_result"
    }
   ],
   "source": [
    "results"
   ]
  },
  {
   "cell_type": "code",
   "execution_count": 33,
   "metadata": {},
   "outputs": [],
   "source": [
    "reviews = [result.text for result in results]"
   ]
  },
  {
   "cell_type": "code",
   "execution_count": 34,
   "metadata": {},
   "outputs": [
    {
     "data": {
      "text/plain": [
       "[]"
      ]
     },
     "execution_count": 34,
     "metadata": {},
     "output_type": "execute_result"
    }
   ],
   "source": [
    "reviews"
   ]
  }
 ],
 "metadata": {
  "kernelspec": {
   "display_name": ".venv_bert_transformers",
   "language": "python",
   "name": "python3"
  },
  "language_info": {
   "codemirror_mode": {
    "name": "ipython",
    "version": 3
   },
   "file_extension": ".py",
   "mimetype": "text/x-python",
   "name": "python",
   "nbconvert_exporter": "python",
   "pygments_lexer": "ipython3",
   "version": "3.11.9"
  }
 },
 "nbformat": 4,
 "nbformat_minor": 2
}
