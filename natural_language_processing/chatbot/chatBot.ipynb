{
 "cells": [
  {
   "attachments": {},
   "cell_type": "markdown",
   "metadata": {},
   "source": [
    "RuleBased ChatBot"
   ]
  },
  {
   "cell_type": "code",
   "execution_count": 3,
   "metadata": {},
   "outputs": [
    {
     "name": "stdout",
     "output_type": "stream",
     "text": [
      "Requirement already satisfied: nltk in c:\\users\\bumblebee\\documents\\workdesk\\chatbot\\.venv\\lib\\site-packages (3.8.1)\n",
      "Requirement already satisfied: regex>=2021.8.3 in c:\\users\\bumblebee\\documents\\workdesk\\chatbot\\.venv\\lib\\site-packages (from nltk) (2023.3.23)\n",
      "Requirement already satisfied: tqdm in c:\\users\\bumblebee\\documents\\workdesk\\chatbot\\.venv\\lib\\site-packages (from nltk) (4.65.0)\n",
      "Requirement already satisfied: click in c:\\users\\bumblebee\\documents\\workdesk\\chatbot\\.venv\\lib\\site-packages (from nltk) (8.1.3)\n",
      "Requirement already satisfied: joblib in c:\\users\\bumblebee\\documents\\workdesk\\chatbot\\.venv\\lib\\site-packages (from nltk) (1.2.0)\n",
      "Requirement already satisfied: colorama in c:\\users\\bumblebee\\documents\\workdesk\\chatbot\\.venv\\lib\\site-packages (from click->nltk) (0.4.6)\n",
      "Note: you may need to restart the kernel to use updated packages.\n"
     ]
    },
    {
     "name": "stderr",
     "output_type": "stream",
     "text": [
      "\n",
      "[notice] A new release of pip available: 22.3.1 -> 23.0.1\n",
      "[notice] To update, run: python.exe -m pip install --upgrade pip\n"
     ]
    }
   ],
   "source": [
    "%pip install nltk"
   ]
  },
  {
   "attachments": {},
   "cell_type": "markdown",
   "metadata": {},
   "source": [
    "Import Libraries"
   ]
  },
  {
   "cell_type": "code",
   "execution_count": 4,
   "metadata": {},
   "outputs": [],
   "source": [
    "\n",
    "import nltk\n",
    "from nltk.chat.util import Chat, reflections\n"
   ]
  },
  {
   "cell_type": "code",
   "execution_count": 5,
   "metadata": {},
   "outputs": [],
   "source": [
    "# i and you kind of this\n",
    "reflections = {\n",
    "\n",
    "    \"i am\" : \"you are\",\n",
    "    \"i was\": \"you were\",\n",
    "    \"yours\":\"mine\",\n",
    "    \"me\":\"you\",\n",
    "    \"I\":\"you\",\n",
    "    \"there\":\"here\"\n",
    "}"
   ]
  },
  {
   "cell_type": "code",
   "execution_count": 6,
   "metadata": {},
   "outputs": [],
   "source": [
    "# Questions and answers\n",
    "pairs= [\n",
    "\n",
    "    [\n",
    "        r\"my name is (.*)\",\n",
    "        [\"Hello %1, How are you today?\",]\n",
    "    ],\n",
    "\n",
    "    [\n",
    "        r\"hi|hey|hello\",\n",
    "        [\"Hello\", \"Hey there\",\"Hi Buddy\"]\n",
    "\n",
    "    ]\n",
    "]"
   ]
  },
  {
   "cell_type": "code",
   "execution_count": 7,
   "metadata": {},
   "outputs": [
    {
     "name": "stdout",
     "output_type": "stream",
     "text": [
      "Hi, I am BotBuddy\n",
      "Hello\n",
      "Hi Buddy\n",
      "Hi Buddy\n",
      "Hey there\n",
      "Hey there\n",
      "Hello atul, How are you today?\n",
      "None\n"
     ]
    }
   ],
   "source": [
    "def fn_chat():\n",
    "    print(\"Hi, I am BotBuddy\")\n",
    "    chat = Chat(pairs,reflections)\n",
    "    chat.converse()\n",
    "\n",
    "fn_chat()"
   ]
  }
 ],
 "metadata": {
  "kernelspec": {
   "display_name": ".venv",
   "language": "python",
   "name": "python3"
  },
  "language_info": {
   "codemirror_mode": {
    "name": "ipython",
    "version": 3
   },
   "file_extension": ".py",
   "mimetype": "text/x-python",
   "name": "python",
   "nbconvert_exporter": "python",
   "pygments_lexer": "ipython3",
   "version": "3.10.11"
  },
  "orig_nbformat": 4,
  "vscode": {
   "interpreter": {
    "hash": "652f8e8af87f30d7727ffe8496c7df9682b302f14cfbc34f06ed8082419c5a8b"
   }
  }
 },
 "nbformat": 4,
 "nbformat_minor": 2
}
